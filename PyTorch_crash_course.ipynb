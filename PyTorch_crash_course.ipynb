{
  "nbformat": 4,
  "nbformat_minor": 0,
  "metadata": {
    "colab": {
      "provenance": [],
      "authorship_tag": "ABX9TyMHxSgQIlTRw59qkqzUhqMm",
      "include_colab_link": true
    },
    "kernelspec": {
      "name": "python3",
      "display_name": "Python 3"
    },
    "language_info": {
      "name": "python"
    }
  },
  "cells": [
    {
      "cell_type": "markdown",
      "metadata": {
        "id": "view-in-github",
        "colab_type": "text"
      },
      "source": [
        "<a href=\"https://colab.research.google.com/github/shivanikush/PyTorch_basics/blob/main/PyTorch_crash_course.ipynb\" target=\"_parent\"><img src=\"https://colab.research.google.com/assets/colab-badge.svg\" alt=\"Open In Colab\"/></a>"
      ]
    },
    {
      "cell_type": "markdown",
      "source": [
        "\n",
        "\n",
        "*   Tensor Basic\n",
        "*   create, Operations, Numpy,GPU Support\n",
        "\n",
        "---\n",
        "\n",
        "\n",
        "*   Autograd\n",
        "     linear regression example\n",
        "\n",
        "\n",
        "---\n",
        "\n",
        "\n",
        "*   Training Loop with model, loss and Optimizer\n",
        "      typical PyTorch training pipeline\n",
        "\n",
        "\n",
        "---\n",
        "\n",
        "\n",
        "*   Neural Network\n",
        "      GPU, Datasets, Dataloader, Transforms and Evaluation\n",
        "\n",
        "\n",
        "---\n",
        "\n",
        "\n",
        "*   Convolution Neural Network\n",
        "      save/load model\n",
        "\n",
        "\n",
        "\n",
        "\n"
      ],
      "metadata": {
        "id": "ZfcksJpI8hBh"
      }
    },
    {
      "cell_type": "markdown",
      "source": [
        "Everything in PyTorch is tensor operation. \n",
        "Atensor is a multi dimensional matrix containing elements of a single datatype."
      ],
      "metadata": {
        "id": "A3CL1X8Z90AC"
      }
    },
    {
      "cell_type": "code",
      "execution_count": 2,
      "metadata": {
        "colab": {
          "base_uri": "https://localhost:8080/"
        },
        "id": "c0Naljie8b0U",
        "outputId": "836ceaf2-cf9a-455f-cb52-d42561577320"
      },
      "outputs": [
        {
          "output_type": "stream",
          "name": "stdout",
          "text": [
            "empty[1]: tensor([-4.4069e-24])\n",
            "empty[3]: tensor([6.5764e-35, 0.0000e+00, 6.5761e-35])\n",
            "empty[2,3] tensor([[ 6.5785e-35,  0.0000e+00, -4.4069e-24],\n",
            "        [ 4.5836e-41,  8.9683e-44,  0.0000e+00]])\n",
            "empty[2,2,3] tensor([[[6.5778e-35, 0.0000e+00, 6.5799e-35],\n",
            "         [0.0000e+00, 8.9683e-44, 0.0000e+00]],\n",
            "\n",
            "        [[1.1210e-43, 0.0000e+00, 6.5761e-35],\n",
            "         [0.0000e+00, 0.0000e+00, 0.0000e+00]]])\n",
            "rand(5,3) tensor([[0.2709, 0.0073, 0.9789],\n",
            "        [0.2460, 0.3905, 0.3284],\n",
            "        [0.9611, 0.7191, 0.3719],\n",
            "        [0.5092, 0.7947, 0.8173],\n",
            "        [0.8856, 0.6283, 0.6605]])\n",
            "zeros tensor([[0., 0., 0.],\n",
            "        [0., 0., 0.],\n",
            "        [0., 0., 0.],\n",
            "        [0., 0., 0.],\n",
            "        [0., 0., 0.]])\n"
          ]
        }
      ],
      "source": [
        "import torch\n",
        "\n",
        "# torch.empty(size): uninitialized\n",
        "x = torch.empty(1) #scalar\n",
        "print(\"empty[1]:\", x)\n",
        "x = torch.empty(3) #vector\n",
        "print(\"empty[3]:\",x)\n",
        "x = torch.empty(2,3) #matrix\n",
        "print(\"empty[2,3]\",x)\n",
        "x = torch.empty(2,2,3) #tensor, 3 dimension\n",
        "#x = torch,empty(2,2,2,3) #tensor 4 dimension\n",
        "print(\"empty[2,2,3]\",x)\n",
        "\n",
        "\n",
        "#torch.rand(size): random numbers [0,1]\n",
        "x = torch.rand(5,3)\n",
        "print(\"rand(5,3)\", x)\n",
        "\n",
        "\n",
        "#torch.zeros(size) fill with 0\n",
        "#torch.ones(size), fill with 1\n",
        "x = torch.zeros(5,3)\n",
        "print(\"zeros\",x)\n",
        "\n",
        "\n"
      ]
    },
    {
      "cell_type": "code",
      "source": [
        "print(\"size\", x.size)\n",
        "print(\"shape\", x.shape)"
      ],
      "metadata": {
        "colab": {
          "base_uri": "https://localhost:8080/"
        },
        "id": "EGCROfkxBjCm",
        "outputId": "7ca42a40-bad2-4b8f-e55e-4917f29838de"
      },
      "execution_count": 3,
      "outputs": [
        {
          "output_type": "stream",
          "name": "stdout",
          "text": [
            "size <built-in method size of Tensor object at 0x7fc6783b85e0>\n",
            "shape torch.Size([5, 3])\n"
          ]
        }
      ]
    },
    {
      "cell_type": "code",
      "source": [
        "#check data type\n",
        "print(\"datatype\", x.dtype)"
      ],
      "metadata": {
        "colab": {
          "base_uri": "https://localhost:8080/"
        },
        "id": "xsvzFlawCDME",
        "outputId": "fc2d19af-9574-43fe-a196-4f78beed9ba7"
      },
      "execution_count": 4,
      "outputs": [
        {
          "output_type": "stream",
          "name": "stdout",
          "text": [
            "datatype torch.float32\n"
          ]
        }
      ]
    },
    {
      "cell_type": "code",
      "source": [
        "x= torch.zeros(5,3, dtype = torch.float16)\n",
        "print(x.dtype)"
      ],
      "metadata": {
        "colab": {
          "base_uri": "https://localhost:8080/"
        },
        "id": "2Mz-T9DADTFI",
        "outputId": "e99a9ede-2b03-4ade-c9f9-e1799b2c4ff8"
      },
      "execution_count": 5,
      "outputs": [
        {
          "output_type": "stream",
          "name": "stdout",
          "text": [
            "torch.float16\n"
          ]
        }
      ]
    },
    {
      "cell_type": "code",
      "source": [
        "#construct from data\n",
        "x = torch.tensor([4,5,2])\n",
        "print(x,x.dtype)"
      ],
      "metadata": {
        "colab": {
          "base_uri": "https://localhost:8080/"
        },
        "id": "ErdR2DFaEMyW",
        "outputId": "9109b974-fa93-4d51-8d6c-fc098a47c3d3"
      },
      "execution_count": 6,
      "outputs": [
        {
          "output_type": "stream",
          "name": "stdout",
          "text": [
            "tensor([4, 5, 2]) torch.int64\n"
          ]
        }
      ]
    },
    {
      "cell_type": "code",
      "source": [
        "#tensor requires_grad argument\n",
        "#this will tell pytorch that it will need to calculate the gradients for this tensor\n",
        "#later in the optimization steps\n",
        "x = torch.tensor([4.5,5,6], requires_grad = True)\n",
        "print(x)"
      ],
      "metadata": {
        "colab": {
          "base_uri": "https://localhost:8080/"
        },
        "id": "lGCJODVIEd9p",
        "outputId": "3a67be1e-6696-4ebe-9337-70bb11e5ed31"
      },
      "execution_count": 8,
      "outputs": [
        {
          "output_type": "stream",
          "name": "stdout",
          "text": [
            "tensor([4.5000, 5.0000, 6.0000], requires_grad=True)\n"
          ]
        }
      ]
    },
    {
      "cell_type": "markdown",
      "source": [
        "**Operations with Tensor\\\\**"
      ],
      "metadata": {
        "id": "zIIL9eIpFH1y"
      }
    },
    {
      "cell_type": "code",
      "source": [
        "x = torch.ones(3,3)\n",
        "y= torch.rand(3,3)\n",
        "\n",
        "#element - wise addition\n",
        "z = x + y\n",
        "#torch.add(x,y)\n",
        "#in-place addition; everything with a trailing underscore is an in-place operation\n",
        "#it will modify the variable\n",
        "#y.add_(x)\n",
        "\n",
        "print(x)\n",
        "print(y)\n",
        "print(z)"
      ],
      "metadata": {
        "colab": {
          "base_uri": "https://localhost:8080/"
        },
        "id": "NjK7p8Y8E_zi",
        "outputId": "0ffd993f-d200-43c1-c55c-2b4d04580fb0"
      },
      "execution_count": 11,
      "outputs": [
        {
          "output_type": "stream",
          "name": "stdout",
          "text": [
            "tensor([[1., 1., 1.],\n",
            "        [1., 1., 1.],\n",
            "        [1., 1., 1.]])\n",
            "tensor([[1.0842, 1.0682, 1.2099],\n",
            "        [1.5867, 1.9978, 1.8625],\n",
            "        [1.5735, 1.7006, 1.5822]])\n",
            "tensor([[1.0842, 1.0682, 1.2099],\n",
            "        [1.5867, 1.9978, 1.8625],\n",
            "        [1.5735, 1.7006, 1.5822]])\n"
          ]
        }
      ]
    },
    {
      "cell_type": "code",
      "source": [
        "#subtraction\n",
        "x = torch.rand(2,2)\n",
        "y = torch.rand(2,2)\n",
        "\n",
        "torch.sub(x,y)\n",
        "\n",
        "#multiplication\n",
        "torch.mul(x,y)\n",
        "\n",
        "#division\n",
        "torch.div(x,y)"
      ],
      "metadata": {
        "colab": {
          "base_uri": "https://localhost:8080/"
        },
        "id": "TPH4iUnfGJb5",
        "outputId": "28ea8bf5-ad8c-4a31-b647-4ee5961efde5"
      },
      "execution_count": 12,
      "outputs": [
        {
          "output_type": "execute_result",
          "data": {
            "text/plain": [
              "tensor([[4.4817e+00, 9.0374e+00],\n",
              "        [2.0594e-03, 4.3522e-02]])"
            ]
          },
          "metadata": {},
          "execution_count": 12
        }
      ]
    },
    {
      "cell_type": "code",
      "source": [
        "#slicing\n",
        "m = torch.rand(5,3)\n",
        "print(m)\n",
        "print(\"[:0]\", m[:,0]) #all rows, column 0\n",
        "print(\"[1:]\", m[1,:]) #row 1, all column\n",
        "print(\"[1,1]\", m[1,1]) #element at 1,1\n",
        "#get the actual value if only 1 element in your tensor\n",
        "\n",
        "print(\"x[1,1].item()\", m[1,1].item())"
      ],
      "metadata": {
        "colab": {
          "base_uri": "https://localhost:8080/"
        },
        "id": "NWKWl7_MF5i4",
        "outputId": "b3864451-47f1-4838-ce3b-290cc73c38b2"
      },
      "execution_count": 20,
      "outputs": [
        {
          "output_type": "stream",
          "name": "stdout",
          "text": [
            "tensor([[0.2776, 0.6355, 0.4681],\n",
            "        [0.1704, 0.9394, 0.0386],\n",
            "        [0.1074, 0.8477, 0.2531],\n",
            "        [0.7135, 0.5597, 0.6817],\n",
            "        [0.8250, 0.9739, 0.6709]])\n",
            "[:0] tensor([0.2776, 0.1704, 0.1074, 0.7135, 0.8250])\n",
            "[1:] tensor([0.1704, 0.9394, 0.0386])\n",
            "[1,1] tensor(0.9394)\n",
            "x[1,1].item() 0.9393526911735535\n"
          ]
        }
      ]
    },
    {
      "cell_type": "code",
      "source": [
        "#Reshape with torch.view()\n",
        "n = torch.randn(4,4)\n",
        "p = n.view(16)\n",
        "z = p.view(-1,8) #size -1 is inferred from other dimension\n",
        "#if -1 pytorch will automatically determine the accurate size\n",
        "print(n.size(), p.size(), z.size())"
      ],
      "metadata": {
        "colab": {
          "base_uri": "https://localhost:8080/"
        },
        "id": "yFrPW58WG96c",
        "outputId": "82bc370b-a73a-418f-dfcf-349b4a64792b"
      },
      "execution_count": 23,
      "outputs": [
        {
          "output_type": "stream",
          "name": "stdout",
          "text": [
            "torch.Size([4, 4]) torch.Size([16]) torch.Size([2, 8])\n"
          ]
        }
      ]
    },
    {
      "cell_type": "markdown",
      "source": [
        "**NumPy**\n",
        "\n",
        "---\n",
        "\n",
        "  Converting a torch tensor into numpy array and vice versa."
      ],
      "metadata": {
        "id": "lb-JWgfTKdqz"
      }
    },
    {
      "cell_type": "code",
      "source": [
        "a = torch.ones(5)\n",
        "print(a)\n",
        "\n",
        "\n",
        "#torch ---> numPy with .numpy()\n",
        "b = a.numpy()\n",
        "print(b)\n",
        "print(type(b))"
      ],
      "metadata": {
        "colab": {
          "base_uri": "https://localhost:8080/"
        },
        "id": "IzB5U82THrjT",
        "outputId": "91c8941b-1df8-4719-80fe-ddf504e347f1"
      },
      "execution_count": 26,
      "outputs": [
        {
          "output_type": "stream",
          "name": "stdout",
          "text": [
            "tensor([1., 1., 1., 1., 1.])\n",
            "[1. 1. 1. 1. 1.]\n",
            "<class 'numpy.ndarray'>\n"
          ]
        }
      ]
    },
    {
      "cell_type": "code",
      "source": [
        "#Caareful if the tensor is on the CPU (!not GPU)\n",
        "#both object will share the same memory location, so changing one will cause the other one to change\n",
        "a.add_(1)\n",
        "print(\"a:\",a)\n",
        "print(\"b:\",b)"
      ],
      "metadata": {
        "colab": {
          "base_uri": "https://localhost:8080/"
        },
        "id": "x3x63lW3LANb",
        "outputId": "88ee2145-27d6-4ff0-bf02-4c08854b5bb0"
      },
      "execution_count": 30,
      "outputs": [
        {
          "output_type": "stream",
          "name": "stdout",
          "text": [
            "a: tensor([4., 4., 4., 4., 4.])\n",
            "b: [4. 4. 4. 4. 4.]\n"
          ]
        }
      ]
    },
    {
      "cell_type": "code",
      "source": [
        "#numpy --> torch with .from_numpy(x), torch.tensor() copy it\n",
        "import numpy as np\n",
        "d = np.ones(5)\n",
        "c = torch.from_numpy(d)\n",
        "g = torch.tensor(d)\n",
        "print(d)\n",
        "print(c)\n",
        "print(g)\n",
        "\n",
        "\n",
        "#----------------------------\n",
        "#again be careful while modifying\n",
        "d +=1\n",
        "print(\"!\",d)\n",
        "print(\"2\",c)\n",
        "print(\"3\",g)"
      ],
      "metadata": {
        "colab": {
          "base_uri": "https://localhost:8080/"
        },
        "id": "YdBYpbqZLhHJ",
        "outputId": "6d283212-758b-4997-9139-4095c9a7f284"
      },
      "execution_count": 33,
      "outputs": [
        {
          "output_type": "stream",
          "name": "stdout",
          "text": [
            "[1. 1. 1. 1. 1.]\n",
            "tensor([1., 1., 1., 1., 1.], dtype=torch.float64)\n",
            "tensor([1., 1., 1., 1., 1.], dtype=torch.float64)\n",
            "! [2. 2. 2. 2. 2.]\n",
            "2 tensor([2., 2., 2., 2., 2.], dtype=torch.float64)\n",
            "3 tensor([1., 1., 1., 1., 1.], dtype=torch.float64)\n"
          ]
        }
      ]
    },
    {
      "cell_type": "markdown",
      "source": [
        "**GPU Support**\n",
        "\n",
        "\n",
        "---\n",
        "\n",
        "By default all tensors are created on CPU, we can move them to GPU (if available) or directly create them on GPU"
      ],
      "metadata": {
        "id": "m30L7yZaMqiK"
      }
    },
    {
      "cell_type": "code",
      "source": [
        "device = torch.device('cuda' if torch.cuda.is_available() else 'cpu')\n",
        "\n",
        "x = torch.rand(2,2).to(device) #Move tensor to GPU\n",
        "#x = x.to(\"cpu\")\n",
        "#x = x.to(\"cuda\")\n",
        "\n",
        "\n",
        "x = torch.rand(2,2, device = device)  #or directly create them on GPU"
      ],
      "metadata": {
        "id": "tGhf4Y8LMOh3"
      },
      "execution_count": 34,
      "outputs": []
    },
    {
      "cell_type": "markdown",
      "source": [
        "**AutoGrad**\n",
        "\n",
        "\n",
        "---\n",
        "\n",
        "provide automatice differentiation for all operations on Tensors.  Torch.autograd is an engine for computing vector-Jacobian product. It computes partial differentiation while applying chain rule.\n",
        "\n",
        "\n",
        "Set \n",
        "requires_grad = True"
      ],
      "metadata": {
        "id": "f0_mZLLnNyqt"
      }
    },
    {
      "cell_type": "code",
      "source": [
        "#requires_grad = True --> track all operations on Tensor\n",
        "\n",
        "x = torch.randn(3,requires_grad = True)\n",
        "y = x + 2\n",
        "\n",
        "#y was created as result of an operation, so it has a grad_fn attribute\n",
        "#grad_fn = references function that has created a tensor\n",
        "print(x) #created by user, grad_fn is None\n",
        "print(y)\n",
        "print(y.grad_fn)"
      ],
      "metadata": {
        "colab": {
          "base_uri": "https://localhost:8080/"
        },
        "id": "MqufrAboNvXH",
        "outputId": "37fc0140-dc5c-4fb5-ad97-a8d56de98e2c"
      },
      "execution_count": 35,
      "outputs": [
        {
          "output_type": "stream",
          "name": "stdout",
          "text": [
            "tensor([0.2269, 0.8693, 0.6450], requires_grad=True)\n",
            "tensor([2.2269, 2.8693, 2.6450], grad_fn=<AddBackward0>)\n",
            "<AddBackward0 object at 0x7fc5d45307c0>\n"
          ]
        }
      ]
    },
    {
      "cell_type": "code",
      "source": [
        "#performingmore operations on y\n",
        "z = y * y *3\n",
        "print(z)\n",
        "z = z.mean()\n",
        "print(z)\n"
      ],
      "metadata": {
        "colab": {
          "base_uri": "https://localhost:8080/"
        },
        "id": "tzG12DgmQYov",
        "outputId": "a835b875-c380-41cd-c3d5-0139ffc333db"
      },
      "execution_count": 37,
      "outputs": [
        {
          "output_type": "stream",
          "name": "stdout",
          "text": [
            "tensor([14.8776, 24.6983, 20.9882], grad_fn=<MulBackward0>)\n",
            "tensor(20.1880, grad_fn=<MeanBackward0>)\n"
          ]
        }
      ]
    },
    {
      "cell_type": "code",
      "source": [
        "#computing the gradient with backpropagation\n",
        "#when we finish our computation we can call .backward() and have all gradients computed automatically\n",
        "#the gradients from this tensor will be accumulated into .grad attribute\n",
        "#it is a partial derivative of a function w.r.t tensor\n",
        "\n",
        "\n",
        "z.backward()\n",
        "print(x.grad) #dz/dx\n",
        "\n",
        "\"\"\" backward accumulates the gradient for this tensor into .grad attribute \n",
        "!!! we need to be careful while optimization  ! optimizer.zero_grad() \"\"\""
      ],
      "metadata": {
        "colab": {
          "base_uri": "https://localhost:8080/",
          "height": 53
        },
        "id": "i-oyLMDISyE7",
        "outputId": "cf59b267-9d26-4cc9-a22f-73e8240f58e7"
      },
      "execution_count": 38,
      "outputs": [
        {
          "output_type": "stream",
          "name": "stdout",
          "text": [
            "tensor([4.4538, 5.7386, 5.2900])\n"
          ]
        },
        {
          "output_type": "execute_result",
          "data": {
            "text/plain": [
              "' backward accumulates the gradient for this tensor into .grad attribute \\n!!! we need to be careful while optimization  ! optimizer.zero_grad() '"
            ],
            "application/vnd.google.colaboratory.intrinsic+json": {
              "type": "string"
            }
          },
          "metadata": {},
          "execution_count": 38
        }
      ]
    },
    {
      "cell_type": "code",
      "source": [],
      "metadata": {
        "id": "LsTkO8auT44r"
      },
      "execution_count": null,
      "outputs": []
    }
  ]
}